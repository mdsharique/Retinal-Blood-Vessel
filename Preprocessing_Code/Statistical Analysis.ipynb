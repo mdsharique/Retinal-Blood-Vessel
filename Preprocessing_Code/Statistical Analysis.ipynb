{
 "cells": [
  {
   "cell_type": "code",
   "execution_count": 1,
   "metadata": {},
   "outputs": [],
   "source": [
    "import pandas as pd\n",
    "import numpy as np"
   ]
  },
  {
   "cell_type": "code",
   "execution_count": 2,
   "metadata": {},
   "outputs": [],
   "source": [
    "# take only 50 images (25 Patient) Since a dataset is missing in the table "
   ]
  },
  {
   "cell_type": "code",
   "execution_count": 3,
   "metadata": {},
   "outputs": [],
   "source": [
    "pre_df = pd.read_csv(\"Pre-Image Calculated_Metrics.csv\")\n",
    "post_df = pd.read_csv(\"Post-Image Calculated_Metrics.csv\")"
   ]
  },
  {
   "cell_type": "code",
   "execution_count": 4,
   "metadata": {},
   "outputs": [],
   "source": [
    "pre_df = pre_df.iloc[:50, :6]\n",
    "post_df = post_df[:50]"
   ]
  },
  {
   "cell_type": "code",
   "execution_count": 5,
   "metadata": {},
   "outputs": [
    {
     "data": {
      "text/plain": [
       "((50, 6), (50, 6))"
      ]
     },
     "execution_count": 5,
     "metadata": {},
     "output_type": "execute_result"
    }
   ],
   "source": [
    "pre_df.shape, post_df.shape"
   ]
  },
  {
   "cell_type": "code",
   "execution_count": 6,
   "metadata": {},
   "outputs": [
    {
     "data": {
      "text/html": [
       "<div>\n",
       "<style scoped>\n",
       "    .dataframe tbody tr th:only-of-type {\n",
       "        vertical-align: middle;\n",
       "    }\n",
       "\n",
       "    .dataframe tbody tr th {\n",
       "        vertical-align: top;\n",
       "    }\n",
       "\n",
       "    .dataframe thead th {\n",
       "        text-align: right;\n",
       "    }\n",
       "</style>\n",
       "<table border=\"1\" class=\"dataframe\">\n",
       "  <thead>\n",
       "    <tr style=\"text-align: right;\">\n",
       "      <th></th>\n",
       "      <th>Image Name</th>\n",
       "      <th>Probability Fractal Dimension</th>\n",
       "      <th>Capacity Fractal Dimension</th>\n",
       "      <th>Information Fractal Dimension</th>\n",
       "      <th>Correlation Fractal Dimension</th>\n",
       "      <th>Mean Lacunarity</th>\n",
       "    </tr>\n",
       "  </thead>\n",
       "  <tbody>\n",
       "    <tr>\n",
       "      <td>0</td>\n",
       "      <td>1</td>\n",
       "      <td>1.793656</td>\n",
       "      <td>2.356637</td>\n",
       "      <td>1.743433</td>\n",
       "      <td>1.527033</td>\n",
       "      <td>1.042554</td>\n",
       "    </tr>\n",
       "    <tr>\n",
       "      <td>1</td>\n",
       "      <td>10</td>\n",
       "      <td>1.774180</td>\n",
       "      <td>2.343953</td>\n",
       "      <td>1.725464</td>\n",
       "      <td>1.509172</td>\n",
       "      <td>1.033621</td>\n",
       "    </tr>\n",
       "    <tr>\n",
       "      <td>2</td>\n",
       "      <td>11</td>\n",
       "      <td>1.779007</td>\n",
       "      <td>2.430267</td>\n",
       "      <td>1.808911</td>\n",
       "      <td>1.526387</td>\n",
       "      <td>1.051800</td>\n",
       "    </tr>\n",
       "    <tr>\n",
       "      <td>3</td>\n",
       "      <td>12</td>\n",
       "      <td>1.816722</td>\n",
       "      <td>2.307422</td>\n",
       "      <td>1.742456</td>\n",
       "      <td>1.622481</td>\n",
       "      <td>1.035351</td>\n",
       "    </tr>\n",
       "    <tr>\n",
       "      <td>4</td>\n",
       "      <td>13</td>\n",
       "      <td>1.780119</td>\n",
       "      <td>2.441498</td>\n",
       "      <td>1.832397</td>\n",
       "      <td>1.574729</td>\n",
       "      <td>1.048752</td>\n",
       "    </tr>\n",
       "    <tr>\n",
       "      <td>5</td>\n",
       "      <td>14</td>\n",
       "      <td>1.801964</td>\n",
       "      <td>2.403194</td>\n",
       "      <td>1.834497</td>\n",
       "      <td>1.681411</td>\n",
       "      <td>1.041950</td>\n",
       "    </tr>\n",
       "    <tr>\n",
       "      <td>6</td>\n",
       "      <td>15</td>\n",
       "      <td>1.799995</td>\n",
       "      <td>2.027392</td>\n",
       "      <td>1.552783</td>\n",
       "      <td>1.526751</td>\n",
       "      <td>1.010794</td>\n",
       "    </tr>\n",
       "    <tr>\n",
       "      <td>7</td>\n",
       "      <td>16</td>\n",
       "      <td>1.810007</td>\n",
       "      <td>2.040693</td>\n",
       "      <td>1.599390</td>\n",
       "      <td>1.600180</td>\n",
       "      <td>1.009743</td>\n",
       "    </tr>\n",
       "    <tr>\n",
       "      <td>8</td>\n",
       "      <td>17</td>\n",
       "      <td>1.751661</td>\n",
       "      <td>2.544013</td>\n",
       "      <td>1.947485</td>\n",
       "      <td>1.566132</td>\n",
       "      <td>1.064839</td>\n",
       "    </tr>\n",
       "    <tr>\n",
       "      <td>9</td>\n",
       "      <td>18</td>\n",
       "      <td>1.794685</td>\n",
       "      <td>2.417423</td>\n",
       "      <td>1.821899</td>\n",
       "      <td>1.617262</td>\n",
       "      <td>1.048289</td>\n",
       "    </tr>\n",
       "  </tbody>\n",
       "</table>\n",
       "</div>"
      ],
      "text/plain": [
       "   Image Name  Probability Fractal Dimension  Capacity Fractal Dimension  \\\n",
       "0           1                       1.793656                    2.356637   \n",
       "1          10                       1.774180                    2.343953   \n",
       "2          11                       1.779007                    2.430267   \n",
       "3          12                       1.816722                    2.307422   \n",
       "4          13                       1.780119                    2.441498   \n",
       "5          14                       1.801964                    2.403194   \n",
       "6          15                       1.799995                    2.027392   \n",
       "7          16                       1.810007                    2.040693   \n",
       "8          17                       1.751661                    2.544013   \n",
       "9          18                       1.794685                    2.417423   \n",
       "\n",
       "   Information Fractal Dimension  Correlation Fractal Dimension  \\\n",
       "0                       1.743433                       1.527033   \n",
       "1                       1.725464                       1.509172   \n",
       "2                       1.808911                       1.526387   \n",
       "3                       1.742456                       1.622481   \n",
       "4                       1.832397                       1.574729   \n",
       "5                       1.834497                       1.681411   \n",
       "6                       1.552783                       1.526751   \n",
       "7                       1.599390                       1.600180   \n",
       "8                       1.947485                       1.566132   \n",
       "9                       1.821899                       1.617262   \n",
       "\n",
       "   Mean Lacunarity  \n",
       "0         1.042554  \n",
       "1         1.033621  \n",
       "2         1.051800  \n",
       "3         1.035351  \n",
       "4         1.048752  \n",
       "5         1.041950  \n",
       "6         1.010794  \n",
       "7         1.009743  \n",
       "8         1.064839  \n",
       "9         1.048289  "
      ]
     },
     "execution_count": 6,
     "metadata": {},
     "output_type": "execute_result"
    }
   ],
   "source": [
    "pre_df.head(10)"
   ]
  },
  {
   "cell_type": "code",
   "execution_count": 7,
   "metadata": {},
   "outputs": [
    {
     "data": {
      "text/html": [
       "<div>\n",
       "<style scoped>\n",
       "    .dataframe tbody tr th:only-of-type {\n",
       "        vertical-align: middle;\n",
       "    }\n",
       "\n",
       "    .dataframe tbody tr th {\n",
       "        vertical-align: top;\n",
       "    }\n",
       "\n",
       "    .dataframe thead th {\n",
       "        text-align: right;\n",
       "    }\n",
       "</style>\n",
       "<table border=\"1\" class=\"dataframe\">\n",
       "  <thead>\n",
       "    <tr style=\"text-align: right;\">\n",
       "      <th></th>\n",
       "      <th>Image Name</th>\n",
       "      <th>Probability Fractal Dimension</th>\n",
       "      <th>Capacity Fractal Dimension</th>\n",
       "      <th>Information Fractal Dimension</th>\n",
       "      <th>Correlation Fractal Dimension</th>\n",
       "      <th>Mean Lacunarity</th>\n",
       "    </tr>\n",
       "  </thead>\n",
       "  <tbody>\n",
       "    <tr>\n",
       "      <td>0</td>\n",
       "      <td>1</td>\n",
       "      <td>1.832754</td>\n",
       "      <td>2.248731</td>\n",
       "      <td>1.720605</td>\n",
       "      <td>1.653726</td>\n",
       "      <td>1.027754</td>\n",
       "    </tr>\n",
       "    <tr>\n",
       "      <td>1</td>\n",
       "      <td>10</td>\n",
       "      <td>1.869251</td>\n",
       "      <td>2.218602</td>\n",
       "      <td>1.778394</td>\n",
       "      <td>1.766333</td>\n",
       "      <td>1.019467</td>\n",
       "    </tr>\n",
       "    <tr>\n",
       "      <td>2</td>\n",
       "      <td>11</td>\n",
       "      <td>1.836353</td>\n",
       "      <td>2.199394</td>\n",
       "      <td>1.672803</td>\n",
       "      <td>1.610959</td>\n",
       "      <td>1.023406</td>\n",
       "    </tr>\n",
       "    <tr>\n",
       "      <td>3</td>\n",
       "      <td>12</td>\n",
       "      <td>1.821403</td>\n",
       "      <td>2.284335</td>\n",
       "      <td>1.713086</td>\n",
       "      <td>1.589994</td>\n",
       "      <td>1.032484</td>\n",
       "    </tr>\n",
       "    <tr>\n",
       "      <td>4</td>\n",
       "      <td>13</td>\n",
       "      <td>1.800444</td>\n",
       "      <td>2.329317</td>\n",
       "      <td>1.731763</td>\n",
       "      <td>1.562216</td>\n",
       "      <td>1.035898</td>\n",
       "    </tr>\n",
       "    <tr>\n",
       "      <td>5</td>\n",
       "      <td>14</td>\n",
       "      <td>1.872234</td>\n",
       "      <td>2.189539</td>\n",
       "      <td>1.755005</td>\n",
       "      <td>1.751140</td>\n",
       "      <td>1.019041</td>\n",
       "    </tr>\n",
       "    <tr>\n",
       "      <td>6</td>\n",
       "      <td>15</td>\n",
       "      <td>1.937587</td>\n",
       "      <td>1.945716</td>\n",
       "      <td>1.782788</td>\n",
       "      <td>1.843602</td>\n",
       "      <td>1.004374</td>\n",
       "    </tr>\n",
       "    <tr>\n",
       "      <td>7</td>\n",
       "      <td>16</td>\n",
       "      <td>1.956753</td>\n",
       "      <td>2.037380</td>\n",
       "      <td>1.855566</td>\n",
       "      <td>1.894614</td>\n",
       "      <td>1.005038</td>\n",
       "    </tr>\n",
       "    <tr>\n",
       "      <td>8</td>\n",
       "      <td>17</td>\n",
       "      <td>1.807323</td>\n",
       "      <td>2.317271</td>\n",
       "      <td>1.728784</td>\n",
       "      <td>1.576671</td>\n",
       "      <td>1.036231</td>\n",
       "    </tr>\n",
       "    <tr>\n",
       "      <td>9</td>\n",
       "      <td>18</td>\n",
       "      <td>1.842281</td>\n",
       "      <td>2.285519</td>\n",
       "      <td>1.772388</td>\n",
       "      <td>1.709902</td>\n",
       "      <td>1.029257</td>\n",
       "    </tr>\n",
       "  </tbody>\n",
       "</table>\n",
       "</div>"
      ],
      "text/plain": [
       "   Image Name  Probability Fractal Dimension  Capacity Fractal Dimension  \\\n",
       "0           1                       1.832754                    2.248731   \n",
       "1          10                       1.869251                    2.218602   \n",
       "2          11                       1.836353                    2.199394   \n",
       "3          12                       1.821403                    2.284335   \n",
       "4          13                       1.800444                    2.329317   \n",
       "5          14                       1.872234                    2.189539   \n",
       "6          15                       1.937587                    1.945716   \n",
       "7          16                       1.956753                    2.037380   \n",
       "8          17                       1.807323                    2.317271   \n",
       "9          18                       1.842281                    2.285519   \n",
       "\n",
       "   Information Fractal Dimension  Correlation Fractal Dimension  \\\n",
       "0                       1.720605                       1.653726   \n",
       "1                       1.778394                       1.766333   \n",
       "2                       1.672803                       1.610959   \n",
       "3                       1.713086                       1.589994   \n",
       "4                       1.731763                       1.562216   \n",
       "5                       1.755005                       1.751140   \n",
       "6                       1.782788                       1.843602   \n",
       "7                       1.855566                       1.894614   \n",
       "8                       1.728784                       1.576671   \n",
       "9                       1.772388                       1.709902   \n",
       "\n",
       "   Mean Lacunarity  \n",
       "0         1.027754  \n",
       "1         1.019467  \n",
       "2         1.023406  \n",
       "3         1.032484  \n",
       "4         1.035898  \n",
       "5         1.019041  \n",
       "6         1.004374  \n",
       "7         1.005038  \n",
       "8         1.036231  \n",
       "9         1.029257  "
      ]
     },
     "execution_count": 7,
     "metadata": {},
     "output_type": "execute_result"
    }
   ],
   "source": [
    "post_df.head(10)"
   ]
  },
  {
   "cell_type": "markdown",
   "metadata": {},
   "source": [
    "# T Test (Statistical Inference)"
   ]
  },
  {
   "cell_type": "code",
   "execution_count": 8,
   "metadata": {},
   "outputs": [],
   "source": [
    "from scipy import stats\n",
    "np.random.seed(2020)"
   ]
  },
  {
   "cell_type": "code",
   "execution_count": 9,
   "metadata": {},
   "outputs": [
    {
     "data": {
      "text/plain": [
       "Ttest_indResult(statistic=-7.225748398666811, pvalue=1.0927239157008019e-10)"
      ]
     },
     "execution_count": 9,
     "metadata": {},
     "output_type": "execute_result"
    }
   ],
   "source": [
    "stats.ttest_ind(pre_df['Probability Fractal Dimension'],post_df['Probability Fractal Dimension'])"
   ]
  },
  {
   "cell_type": "code",
   "execution_count": 10,
   "metadata": {},
   "outputs": [
    {
     "data": {
      "text/plain": [
       "Ttest_indResult(statistic=4.583931431579951, pvalue=1.3473805003721934e-05)"
      ]
     },
     "execution_count": 10,
     "metadata": {},
     "output_type": "execute_result"
    }
   ],
   "source": [
    "stats.ttest_ind(pre_df['Capacity Fractal Dimension'],post_df['Capacity Fractal Dimension'])"
   ]
  },
  {
   "cell_type": "code",
   "execution_count": 11,
   "metadata": {},
   "outputs": [
    {
     "data": {
      "text/plain": [
       "Ttest_indResult(statistic=1.3800887735388288, pvalue=0.17069959138493393)"
      ]
     },
     "execution_count": 11,
     "metadata": {},
     "output_type": "execute_result"
    }
   ],
   "source": [
    "stats.ttest_ind(pre_df['Information Fractal Dimension'],post_df['Information Fractal Dimension'])"
   ]
  },
  {
   "cell_type": "code",
   "execution_count": 12,
   "metadata": {},
   "outputs": [
    {
     "data": {
      "text/plain": [
       "Ttest_indResult(statistic=-4.901870730114881, pvalue=3.761598796980787e-06)"
      ]
     },
     "execution_count": 12,
     "metadata": {},
     "output_type": "execute_result"
    }
   ],
   "source": [
    "stats.ttest_ind(pre_df['Correlation Fractal Dimension'],post_df['Correlation Fractal Dimension'])"
   ]
  },
  {
   "cell_type": "code",
   "execution_count": 13,
   "metadata": {},
   "outputs": [
    {
     "data": {
      "text/plain": [
       "Ttest_indResult(statistic=4.592763457513951, pvalue=1.3013051887946999e-05)"
      ]
     },
     "execution_count": 13,
     "metadata": {},
     "output_type": "execute_result"
    }
   ],
   "source": [
    "stats.ttest_ind(pre_df['Mean Lacunarity'],post_df['Mean Lacunarity'])"
   ]
  },
  {
   "cell_type": "markdown",
   "metadata": {},
   "source": [
    "# K-Mean Clustering"
   ]
  },
  {
   "cell_type": "code",
   "execution_count": 14,
   "metadata": {},
   "outputs": [],
   "source": [
    "from sklearn.cluster import KMeans\n",
    "from matplotlib import pyplot as plt"
   ]
  },
  {
   "cell_type": "code",
   "execution_count": 15,
   "metadata": {},
   "outputs": [
    {
     "name": "stderr",
     "output_type": "stream",
     "text": [
      "/Users/mdsharique/opt/anaconda3/lib/python3.7/site-packages/ipykernel_launcher.py:4: SettingWithCopyWarning: \n",
      "A value is trying to be set on a copy of a slice from a DataFrame.\n",
      "Try using .loc[row_indexer,col_indexer] = value instead\n",
      "\n",
      "See the caveats in the documentation: http://pandas.pydata.org/pandas-docs/stable/user_guide/indexing.html#returning-a-view-versus-a-copy\n",
      "  after removing the cwd from sys.path.\n"
     ]
    },
    {
     "data": {
      "text/plain": [
       "(50, 2)"
      ]
     },
     "execution_count": 15,
     "metadata": {},
     "output_type": "execute_result"
    }
   ],
   "source": [
    "# Input\n",
    "t = 1\n",
    "inp = pre_df.iloc[:, :1]\n",
    "inp['Probability Fractal Dimension'] = post_df.iloc[:, t:t+1] - pre_df.iloc[:, t:t+1]\n",
    "inp.shape"
   ]
  },
  {
   "cell_type": "code",
   "execution_count": 20,
   "metadata": {},
   "outputs": [
    {
     "data": {
      "image/png": "[encoded data removed]",
      "text/plain": [
       "<Figure size 576x576 with 1 Axes>"
      ]
     },
     "metadata": {
      "needs_background": "light"
     },
     "output_type": "display_data"
    }
   ],
   "source": [
    "wcss = []\n",
    "for i in range(1, 11):\n",
    "    kmeans = KMeans(n_clusters = i, init = 'k-means++', max_iter = 300, n_init = 10, random_state = 2020)\n",
    "    kmeans.fit(inp)\n",
    "    wcss.append(kmeans.inertia_)\n",
    "\n",
    "plt.figure(figsize = (8, 8))\n",
    "plt.rcParams.update({'font.size': 22})\n",
    "plt.plot(range(1, 11), wcss)\n",
    "plt.title('Optimal K for K-Means Clustering')\n",
    "plt.xlabel('Number of clusters')\n",
    "plt.ylabel('WCSS')\n",
    "#plt.savefig('kMeans-K.png', dpi = 100)\n",
    "plt.show()"
   ]
  },
  {
   "cell_type": "code",
   "execution_count": 63,
   "metadata": {},
   "outputs": [
    {
     "name": "stderr",
     "output_type": "stream",
     "text": [
      "/Users/mdsharique/opt/anaconda3/lib/python3.7/site-packages/ipykernel_launcher.py:2: SettingWithCopyWarning: \n",
      "A value is trying to be set on a copy of a slice from a DataFrame.\n",
      "Try using .loc[row_indexer,col_indexer] = value instead\n",
      "\n",
      "See the caveats in the documentation: http://pandas.pydata.org/pandas-docs/stable/user_guide/indexing.html#returning-a-view-versus-a-copy\n",
      "  \n"
     ]
    }
   ],
   "source": [
    "kmeans = KMeans(n_clusters = 6, init='k-means++', max_iter = 600, n_init = 10, random_state = 2020)\n",
    "inp['cluster'] = kmeans.fit_predict(inp)"
   ]
  },
  {
   "cell_type": "markdown",
   "metadata": {},
   "source": [
    "# Visualization"
   ]
  },
  {
   "cell_type": "code",
   "execution_count": 64,
   "metadata": {},
   "outputs": [],
   "source": [
    "X = np.array(inp)\n",
    "cluster_list = inp['cluster']\n",
    "colors = ['tab:blue', 'tab:orange', 'tab:green', 'tab:red', 'tab:purple', 'tab:brown', 'tab:pink', 'tab:gray', 'tab:olive', 'tab:cyan']\n",
    "k = inp['cluster'].nunique()"
   ]
  },
  {
   "cell_type": "code",
   "execution_count": 69,
   "metadata": {},
   "outputs": [
    {
     "data": {
      "text/plain": [
       "<matplotlib.collections.PathCollection at 0x125009550>"
      ]
     },
     "execution_count": 69,
     "metadata": {},
     "output_type": "execute_result"
    },
    {
     "data": {
      "image/png": "[encoded data removed]",
      "text/plain": [
       "<Figure size 576x576 with 1 Axes>"
      ]
     },
     "metadata": {
      "needs_background": "light"
     },
     "output_type": "display_data"
    }
   ],
   "source": [
    "plt.figure(figsize = (8, 8))\n",
    "plt.rcParams.update({'font.size': 22})\n",
    "plt.title('Clustered Patient @K = 6')\n",
    "for i in range(k):\n",
    "        points = np.array([X[j] for j in range(len(X)) if cluster_list[j] == i])\n",
    "        plt.scatter(points[:, 0], points[:, 1], s = 300, c = colors[i])\n",
    "plt.scatter(kmeans.cluster_centers_[:, 0], kmeans.cluster_centers_[:, 1], marker = '*', s = 800, c = '#050505')\n",
    "#plt.savefig('kMeans.png', dpi = 100)"
   ]
  },
  {
   "cell_type": "markdown",
   "metadata": {},
   "source": [
    "# Visualize two dataset"
   ]
  },
  {
   "cell_type": "code",
   "execution_count": 70,
   "metadata": {},
   "outputs": [
    {
     "data": {
      "text/plain": [
       "(1.75, 1.98)"
      ]
     },
     "execution_count": 70,
     "metadata": {},
     "output_type": "execute_result"
    },
    {
     "data": {
      "image/png": "[encoded data removed]",
      "text/plain": [
       "<Figure size 432x288 with 1 Axes>"
      ]
     },
     "metadata": {
      "needs_background": "light"
     },
     "output_type": "display_data"
    }
   ],
   "source": [
    "fig, ax = plt.subplots()\n",
    "ax.scatter(pre_df.iloc[:, t:t+1], post_df.iloc[:, t:t+1], s = 100, c = colors[4])\n",
    "ax.plot([1, 2], [1, 2], c = colors[0], linewidth = 2)\n",
    "ax.set_xlim([1.72, 1.87])\n",
    "ax.set_ylim([1.75, 1.98])"
   ]
  },
  {
   "cell_type": "markdown",
   "metadata": {},
   "source": [
    "# T-SNE"
   ]
  },
  {
   "cell_type": "code",
   "execution_count": 76,
   "metadata": {},
   "outputs": [],
   "source": [
    "from scipy import linalg\n",
    "from sklearn.manifold import TSNE\n",
    "import seaborn as sns\n",
    "sns.set(rc = {'figure.figsize':(12, 12)})\n",
    "palette = sns.color_palette(\"bright\", 6)"
   ]
  },
  {
   "cell_type": "code",
   "execution_count": 77,
   "metadata": {},
   "outputs": [
    {
     "data": {
      "text/plain": [
       "(50, 6)"
      ]
     },
     "execution_count": 77,
     "metadata": {},
     "output_type": "execute_result"
    }
   ],
   "source": [
    "# Dataset\n",
    "t = 1\n",
    "inp = post_df.iloc[:, 1:] - pre_df.iloc[:, 1:]\n",
    "inp['Image Name'] = pre_df.iloc[:, :1]\n",
    "inp.shape"
   ]
  },
  {
   "cell_type": "code",
   "execution_count": 78,
   "metadata": {},
   "outputs": [],
   "source": [
    "kmeans = KMeans(n_clusters = 6, init='k-means++', max_iter = 600, n_init = 10, random_state = 2020)\n",
    "cluster = kmeans.fit_predict(inp)"
   ]
  },
  {
   "cell_type": "code",
   "execution_count": 79,
   "metadata": {},
   "outputs": [],
   "source": [
    "tsne = TSNE()\n",
    "X_embedded = tsne.fit_transform(inp)"
   ]
  },
  {
   "cell_type": "code",
   "execution_count": 80,
   "metadata": {},
   "outputs": [
    {
     "data": {
      "text/plain": [
       "<matplotlib.axes._subplots.AxesSubplot at 0x124f68290>"
      ]
     },
     "execution_count": 80,
     "metadata": {},
     "output_type": "execute_result"
    },
    {
     "data": {
      "image/png": "[encoded data removed]",
      "text/plain": [
       "<Figure size 864x864 with 1 Axes>"
      ]
     },
     "metadata": {},
     "output_type": "display_data"
    }
   ],
   "source": [
    "sns.scatterplot(X_embedded[:,0], X_embedded[:,1], hue = cluster, legend = 'full', palette = palette)"
   ]
  },
  {
   "cell_type": "code",
   "execution_count": null,
   "metadata": {},
   "outputs": [],
   "source": []
  }
 ],
 "metadata": {
  "kernelspec": {
   "display_name": "Python 3",
   "language": "python",
   "name": "python3"
  },
  "language_info": {
   "codemirror_mode": {
    "name": "ipython",
    "version": 3
   },
   "file_extension": ".py",
   "mimetype": "text/x-python",
   "name": "python",
   "nbconvert_exporter": "python",
   "pygments_lexer": "ipython3",
   "version": "3.7.4"
  }
 },
 "nbformat": 4,
 "nbformat_minor": 4
}
