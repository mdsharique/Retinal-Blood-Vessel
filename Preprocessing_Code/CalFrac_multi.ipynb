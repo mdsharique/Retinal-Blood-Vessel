{
 "cells": [
  {
   "cell_type": "code",
   "execution_count": 1,
   "metadata": {},
   "outputs": [],
   "source": [
    "from scipy import stats\n",
    "import numpy as np\n",
    "from tqdm import tqdm\n",
    "import matplotlib.pyplot as plt\n",
    "from imageio import imread, imwrite\n",
    "import random, gc, pickle, os\n",
    "from PIL import Image\n",
    "from skimage.transform import resize\n",
    "from os.path import exists, isfile, join\n",
    "from math import log\n",
    "import pandas as pd"
   ]
  },
  {
   "cell_type": "markdown",
   "metadata": {},
   "source": [
    "# Load Data"
   ]
  },
  {
   "cell_type": "code",
   "execution_count": 2,
   "metadata": {},
   "outputs": [],
   "source": [
    "def load_folder_list(path=\"\"):\n",
    "    return [os.path.join(path, o) for o in os.listdir(path) if os.path.isdir(os.path.join(path, o))]"
   ]
  },
  {
   "cell_type": "code",
   "execution_count": 3,
   "metadata": {},
   "outputs": [],
   "source": [
    "def get_data_path(img_folder):\n",
    "\n",
    "    img_path = load_folder_list(path = img_folder)\n",
    "    img_path.sort()\n",
    "\n",
    "    return img_path"
   ]
  },
  {
   "cell_type": "code",
   "execution_count": 4,
   "metadata": {},
   "outputs": [],
   "source": [
    "def get_data_name(data_path):\n",
    "\n",
    "    if exists(data_path):\n",
    "           data_name = [f for f in os.listdir(data_path) if isfile(join(data_path,f))]\n",
    "            \n",
    "    data_name.sort()\n",
    "    return data_name"
   ]
  },
  {
   "cell_type": "code",
   "execution_count": 5,
   "metadata": {},
   "outputs": [],
   "source": [
    "def get_data(img_path):\n",
    "\n",
    "    name = get_data_name(img_path)\n",
    "    img = []\n",
    "    \n",
    "    for p in tqdm(range(len(name))):\n",
    "        img.append(Image.open(join(img_path, name[p])))\n",
    "    \n",
    "    return img, name"
   ]
  },
  {
   "cell_type": "code",
   "execution_count": 6,
   "metadata": {},
   "outputs": [
    {
     "name": "stderr",
     "output_type": "stream",
     "text": [
      "100%|██████████| 59/59 [00:00<00:00, 2085.49it/s]\n"
     ]
    }
   ],
   "source": [
    "img_path = \"ClinicalResults/PostImage\"\n",
    "img, img_name = get_data(img_path)"
   ]
  },
  {
   "cell_type": "markdown",
   "metadata": {},
   "source": [
    "# Get Fractal Dimension"
   ]
  },
  {
   "cell_type": "markdown",
   "metadata": {},
   "source": [
    "# Get Probability fractal dimension & mean Lacunarity"
   ]
  },
  {
   "cell_type": "code",
   "execution_count": 7,
   "metadata": {},
   "outputs": [],
   "source": [
    "def getProbFD(img):\n",
    "    \"\"\"\n",
    "    % GETPROBFD  Compute probability fractal dimension and lacunarity.\n",
    "    %\n",
    "    % Input:     img     a gray scale image (2D matrix, 0..255)\n",
    "    %\n",
    "    % Output:    FDprob  Probability Fractal Dimension\n",
    "    %            meanLac Mean Lacunarity over all box sizes\n",
    "    %\n",
    "    \"\"\"\n",
    "\n",
    "    #if color image is passed reduce to gray\n",
    "    if (img.shape[2] > 1):\n",
    "        img = np.sum(img[:, :, 0:3], axis = 2) / 3.0\n",
    "\n",
    "    #% if range is 0..1, scale to 0 ..255:\n",
    "    if (np.max(img) <= 1):\n",
    "        img = 255.0 * img\n",
    "\n",
    "    img = img.astype(np.uint8)\n",
    "    h, w = int(img.shape[0]), int(img.shape[1])\n",
    "    \n",
    "    lmax = np.min([w, h, 31])\n",
    "\n",
    "    if (lmax % 2 == 0):\n",
    "        lmax= lmax-1\n",
    "\n",
    "    border = int((lmax - 1) / 2)\n",
    "    results = []\n",
    "    #print('Calculating over h = ', h, ' and w = ', w)\n",
    "    #print('l          log(l)                    N(l)                      -log(N(l))')\n",
    "    #print('=========================================================================')\n",
    "    count = 0\n",
    "    L = []\n",
    "    NL = []\n",
    "    LacL = []\n",
    "    totalpix = (h - 2 * border) * (w - 2 * border)\n",
    "    for l in range(3, lmax+1, 2):\n",
    "        count = count + 1\n",
    "        r = int((l-1) / 2)\n",
    "        Nsum = 0\n",
    "        Msum = 0\n",
    "        M2sum = 0\n",
    "\n",
    "        for y in range(border + 1, h - border + 1):\n",
    "            for x in range(border + 1, w - border + 1):\n",
    "\n",
    "                #iterate over box with radius r around x,y\n",
    "                ibox = np.int16(img[y-r:y+r+1, x-r:x+r+1])\n",
    "                ibox = np.abs(ibox - np.int16(img[y, x + 1])) <= r\n",
    "                m = np.sum(ibox)\n",
    "                Nsum = Nsum + 1.0/m\n",
    "                Msum = Msum + m\n",
    "                M2sum = M2sum + m * m\n",
    "\n",
    "        #print(l, \"    \", np.log(l), \"     \", Nsum, \"      \", -np.log(Nsum))\n",
    "        L.append(l)\n",
    "        NL.append(Nsum / totalpix) #division does not change slope below\n",
    "        M2sum = M2sum / totalpix\n",
    "        Msum = Msum / totalpix\n",
    "        #%LacL(count) = (M2sum - Msum^2) / Msum^2;\n",
    "        LacL.append(M2sum  / (Msum * Msum)) #% the above + 1, we'd add 1 anyway later\n",
    "\n",
    "    results = []\n",
    "    results.append(np.log(L))\n",
    "    results.append(-np.log(NL))\n",
    "    istart = 2\n",
    "    iend = len(results[0])\n",
    "\n",
    "    X = results[0][istart:iend+1]\n",
    "    Y = results[1][istart:iend+1]\n",
    "    slope, intercept, r_value, p_value, std_err = stats.linregress(X, Y)\n",
    "    FDprob = slope\n",
    "    \n",
    "    meanLac = np.mean(LacL[istart : iend + 1])\n",
    "    medianLac = np.median(LacL[istart : iend + 1])\n",
    "\n",
    "    #print('Probability Fractal Dimension : ', FDprob)\n",
    "    #print('Mean Probability Lacunarity   : ', meanLac)\n",
    "    return FDprob, meanLac"
   ]
  },
  {
   "cell_type": "code",
   "execution_count": 8,
   "metadata": {},
   "outputs": [],
   "source": [
    "def getFD(img):\n",
    "    \"\"\"\n",
    "    % GETFD      Compute fractal dimensions.\n",
    "    %\n",
    "    % Input:     img     a gray scale image (2D matrix, 0..255)\n",
    "    %\n",
    "    % Output:    FDcap   Capacity Fractal Dimension (box counting)\n",
    "    %            FDinf   Information Fractal Dimension\n",
    "    %            FDcor   Correlation Fractal Dimension\n",
    "    %\n",
    "    \"\"\"\n",
    "\n",
    "    #if color image is passed reduce to gray\n",
    "    if (img.shape[2] > 1):\n",
    "        img = np.sum(img[:, :, 0:3], axis = 2) / 3.0\n",
    "\n",
    "    #% if range is 0..1, scale to 0 ..255:\n",
    "    if (np.max(img) <= 1):\n",
    "        img = 255.0 * img\n",
    "\n",
    "    img = img.astype(np.uint8)\n",
    "    h, w = img.shape[0], img.shape[1]\n",
    "\n",
    "    lmax = np.min([w, h, 64])\n",
    "\n",
    "    wn = int(np.floor(w / lmax) * lmax)\n",
    "    hn = int(np.floor(h / lmax) * lmax)\n",
    "\n",
    "    #print('Calculating over h =', hn, 'and w =', wn)\n",
    "    L = []\n",
    "    NL = []\n",
    "    InfL = []\n",
    "    SqrFreqL = []\n",
    "    count = 0\n",
    "    hnwn = hn * wn\n",
    "    loghw = np.log(hnwn)\n",
    "    \n",
    "    for boxsize in [np.power(2, r) for r in range(1, int(np.floor(np.log2(64)))+1)]:\n",
    "        Nsum = 0\n",
    "        i = 0\n",
    "        Inf = 0\n",
    "        SqrFreq = 0\n",
    "        bs2 = boxsize * boxsize\n",
    "        count = count + 1\n",
    "\n",
    "        for k in range(1, hn-boxsize+2, boxsize):\n",
    "            for l in range(1, wn-boxsize+2, boxsize):\n",
    "                ibox = img[k:k+boxsize, l:l+boxsize]\n",
    "                maxi = np.float32(np.max(ibox))\n",
    "                mini = np.float32(np.min(ibox))\n",
    "                N = np.floor((maxi - mini) / boxsize)+1  #number of boxes (round up)\n",
    "                Nsum = Nsum + N\n",
    "                Inf = Inf + bs2 * (np.log(bs2 / N) - loghw )\n",
    "                SqrFreq = SqrFreq + bs2 * bs2 / N\n",
    "                i = i + 1    # count squares\n",
    "\n",
    "        #print('Quadrate: ', i)\n",
    "        #print('N = ', Nsum, ' and -ln(N) = ', -np.log(np.float32(Nsum)), ' for boxsize ', boxsize)\n",
    "        L.append(boxsize)\n",
    "        NL.append(Nsum)\n",
    "        InfL.append(Inf / hnwn)\n",
    "        SqrFreqL.append(SqrFreq / hnwn * hnwn)\n",
    "\n",
    "    results = []\n",
    "    results.append(np.log(L))\n",
    "    results.append(-np.log(NL))\n",
    "    results.append(InfL)\n",
    "    results.append(np.log(SqrFreqL))\n",
    "\n",
    "    istart = 2\n",
    "    iend = len(results[0])\n",
    "\n",
    "    X = results[0][istart:iend+1]\n",
    "    Y = results[1][istart:iend+1]\n",
    "    slope, intercept, r_value, p_value, std_err = stats.linregress(X, Y)\n",
    "    FDcap =slope\n",
    "\n",
    "    Y = results[2][istart:iend+1]\n",
    "    slope, intercept, r_value, p_value, std_err = stats.linregress(X, Y)\n",
    "    FDinf =slope\n",
    "\n",
    "    Y = results[3][istart:iend+1]\n",
    "    slope, intercept, r_value, p_value, std_err = stats.linregress(X, Y)\n",
    "    FDcor =slope\n",
    "\n",
    "    #print('Capacity Fractal Dimension    : ', FDcap)\n",
    "    #print('Information Fractal Dimension : ', FDinf)\n",
    "    #print('Correlation Fractal Dimension : ', FDcor)\n",
    "                                                                        \n",
    "    return FDcap, FDinf, FDcor"
   ]
  },
  {
   "cell_type": "markdown",
   "metadata": {},
   "source": [
    "# Run"
   ]
  },
  {
   "cell_type": "code",
   "execution_count": 9,
   "metadata": {},
   "outputs": [
    {
     "name": "stderr",
     "output_type": "stream",
     "text": [
      "100%|██████████| 59/59 [55:44<00:00, 56.69s/it]\n"
     ]
    }
   ],
   "source": [
    "# compute probability fractal dimension and mean lacunarity\n",
    "# compute capacity, information and correlation fractal dimension\n",
    "for i in tqdm(range(len(img))):\n",
    "    \n",
    "    I = (np.array(img[i])/255.0).astype(np.uint8)\n",
    "    \n",
    "    # Save Image\n",
    "    img_savepath = img_path+\"/\"+img_name[i]\n",
    "    im = Image.fromarray(I)\n",
    "    im.save(img_savepath)\n",
    "    \n",
    "    # Calculate\n",
    "    I = I[..., np.newaxis]\n",
    "    FDprob, meanLac = getProbFD(I)\n",
    "    FDcap, FDinf, FDcor = getFD(I)\n",
    "    \n",
    "    # Generate report\n",
    "    data = {'Image Name':img_name[i].split('.')[0].split('_')[1], 'Probability Fractal Dimension':[FDprob], 'Capacity Fractal Dimension':[FDcap], 'Information Fractal Dimension':[FDinf], 'Correlation Fractal Dimension':[FDcor], 'Mean Lacunarity':[meanLac]}\n",
    "    report = pd.DataFrame(data)\n",
    "    report.to_csv('Report/Post/'+img_name[i].split('.')[0]+'.csv', index = False)"
   ]
  }
 ],
 "metadata": {
  "kernelspec": {
   "display_name": "Python 3",
   "language": "python",
   "name": "python3"
  },
  "language_info": {
   "codemirror_mode": {
    "name": "ipython",
    "version": 3
   },
   "file_extension": ".py",
   "mimetype": "text/x-python",
   "name": "python",
   "nbconvert_exporter": "python",
   "pygments_lexer": "ipython3",
   "version": "3.7.4"
  }
 },
 "nbformat": 4,
 "nbformat_minor": 4
}
